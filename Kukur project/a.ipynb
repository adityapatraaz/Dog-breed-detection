{
 "cells": [
  {
   "cell_type": "code",
   "execution_count": 10,
   "metadata": {},
   "outputs": [
    {
     "name": "stderr",
     "output_type": "stream",
     "text": [
      "WARNING:absl:Compiled the loaded model, but the compiled metrics have yet to be built. `model.compile_metrics` will be empty until you train or evaluate the model.\n"
     ]
    },
    {
     "name": "stdout",
     "output_type": "stream",
     "text": [
      "\u001b[1m1/1\u001b[0m \u001b[32m━━━━━━━━━━━━━━━━━━━━\u001b[0m\u001b[37m\u001b[0m \u001b[1m12s\u001b[0m 12s/step\n",
      "Predictions shape: (1, 8)\n",
      "Predictions: [[1.2213085e-03 2.5967209e-05 5.4627057e-04 2.2611948e-05 8.8086529e-07\n",
      "  4.7406074e-06 1.2096697e-06 9.9817705e-01]]\n",
      "Predicted index: 7\n",
      "The predicted breed is: rottweiler\n"
     ]
    }
   ],
   "source": [
    "# import numpy as np\n",
    "# import tensorflow as tf\n",
    "# from tensorflow.keras.models import load_model\n",
    "# from tensorflow.keras.preprocessing import image\n",
    "\n",
    "# # Load the pre-trained model\n",
    "# model = load_model('fine_tuned_inception.h5')\n",
    "\n",
    "# # List of breed labels (update this with all your breed labels)\n",
    "# breed_labels = [\n",
    "#     \"Dalmatian\", \"Chihuahua\", \"Japanese Spaniel\", \"Maltese Dog\", \"Pekinese\",\n",
    "#     \"Shih-Tzu\", \"Blenheim Spaniel\", \"Papillon\", \"Toy Terrier\", \"Rhodesian Ridgeback\",\n",
    "#     \"Afghan Hound\", \"Basset\", \"Beagle\", \"Bloodhound\", \"Bluetick\",\n",
    "#     \"Black-and-Tan Coonhound\", \"Walker Hound\", \"English Foxhound\", \"Redbone\",\n",
    "#     \"Borzoi\", \"Irish Wolfhound\", \"Italian Greyhound\", \"Whippet\", \"Ibizan Hound\",\n",
    "#     \"Norwegian Elkhound\", \"Otterhound\", \"Saluki\", \"Scottish Deerhound\", \"Weimaraner\",\n",
    "#     \"Staffordshire Bullterrier\", \"American Staffordshire Terrier\", \"Bedlington Terrier\",\n",
    "#     \"Border Terrier\", \"Kerry Blue Terrier\", \"Irish Terrier\", \"Norfolk Terrier\",\n",
    "#     \"Norwich Terrier\", \"Yorkshire Terrier\", \"Wire-Haired Fox Terrier\", \"Lakeland Terrier\",\n",
    "#     \"Sealyham Terrier\", \"Airedale\", \"Cairn\", \"Australian Terrier\", \"Dandie Dinmont\",\n",
    "#     \"Boston Bull\", \"Miniature Schnauzer\", \"Giant Schnauzer\", \"Standard Schnauzer\",\n",
    "#     \"Scotch Terrier\", \"Tibetan Terrier\", \"Silky Terrier\", \"Soft-Coated Wheaten Terrier\",\n",
    "#     \"West Highland White Terrier\", \"Lhasa\", \"Flat-Coated Retriever\", \"Curly-Coated Retriever\",\n",
    "#     \"Golden Retriever\", \"Labrador Retriever\", \"Chesapeake Bay Retriever\", \"German Short-Haired Pointer\",\n",
    "#     \"Vizsla\", \"English Setter\", \"Irish Setter\", \"Gordon Setter\", \"Brittany Spaniel\",\n",
    "#     \"Clumber\", \"English Springer\", \"Welsh Springer Spaniel\", \"Cocker Spaniel\", \"Sussex Spaniel\",\n",
    "#     \"Irish Water Spaniel\", \"Kuvasz\", \"Schipperke\", \"Groenendael\", \"Malinois\",\n",
    "#     \"Briard\", \"Kelpie\", \"Komondor\", \"Old English Sheepdog\", \"Shetland Sheepdog\",\n",
    "#     \"Collie\", \"Border Collie\", \"Bouvier des Flandres\", \"Rottweiler\", \"German Shepherd\",\n",
    "#     \"Doberman\", \"Miniature Pinscher\", \"Greater Swiss Mountain Dog\", \"Bernese Mountain Dog\",\n",
    "#     \"Appenzeller\", \"Entlebucher\", \"Boxer\", \"Bull Mastiff\", \"Tibetan Mastiff\",\n",
    "#     \"French Bulldog\", \"Great Dane\", \"Saint Bernard\", \"Eskimo Dog\", \"Malamute\",\n",
    "#     \"Siberian Husky\", \"Affenpinscher\", \"Basenji\", \"Pug\", \"Leonberg\",\n",
    "#     \"Newfoundland\", \"Great Pyrenees\", \"Samoyed\", \"Pomeranian\", \"Chow\",\n",
    "#     \"Keeshond\", \"Brabancon Griffon\", \"Pembroke\", \"Cardigan\", \"Toy Poodle\",\n",
    "#     \"Miniature Poodle\", \"Standard Poodle\", \"Mexican Hairless\", \"Dingo\", \"Dhole\",\n",
    "#     \"African Hunting Dog\"\n",
    "# ]\n",
    "\n",
    "# # Function to preprocess the image\n",
    "# def preprocess_image(img_path):\n",
    "#     # Load the image with the target size (224x224 for InceptionV3)\n",
    "#     img = image.load_img(img_path, target_size=(224, 224))\n",
    "    \n",
    "#     # Convert the image to a numpy array\n",
    "#     img_array = image.img_to_array(img)\n",
    "    \n",
    "#     # Expand dimensions to match the input shape of the model (1, 224, 224, 3)\n",
    "#     img_array = np.expand_dims(img_array, axis=0)\n",
    "    \n",
    "#     # Normalize the image data to [0, 1]\n",
    "#     img_array /= 255.0\n",
    "    \n",
    "#     return img_array\n",
    "\n",
    "# # Function to predict the breed\n",
    "# def predict_breed(img_path):\n",
    "#     # Preprocess the image\n",
    "#     img_array = preprocess_image(img_path)\n",
    "    \n",
    "#     # Make predictions\n",
    "#     predictions = model.predict(img_array)\n",
    "    \n",
    "#     # Print the shape and predictions for debugging\n",
    "#     print(f'Predictions shape: {predictions.shape}')\n",
    "#     print(f'Predictions: {predictions}')\n",
    "    \n",
    "#     # Get the predicted index\n",
    "#     predicted_breed_index = np.argmax(predictions)\n",
    "#     print(f'Predicted index: {predicted_breed_index}')\n",
    "    \n",
    "#     # Validate index and get the breed name\n",
    "#     if predicted_breed_index < len(breed_labels):\n",
    "#         predicted_breed = breed_labels[predicted_breed_index]\n",
    "#     else:\n",
    "#         predicted_breed = \"Unknown breed\"\n",
    "    \n",
    "#     return predicted_breed\n",
    "import numpy as np\n",
    "import tensorflow as tf\n",
    "from tensorflow.keras.models import load_model\n",
    "from tensorflow.keras.preprocessing import image\n",
    "\n",
    "# Load the pre-trained model\n",
    "model = load_model('fine_tuned_inception.h5')\n",
    "\n",
    "# Use the correct class labels that match the model output\n",
    "class_labels = ['beagle', 'bulldog', 'dalmatian', 'german-shepherd', 'husky', 'labrador-retriever', 'poodle', 'rottweiler']\n",
    "\n",
    "# Function to preprocess the image\n",
    "def preprocess_image(img_path):\n",
    "    # Load the image with the target size (224x224 for InceptionV3)\n",
    "    img = image.load_img(img_path, target_size=(224, 224))\n",
    "    \n",
    "    # Convert the image to a numpy array\n",
    "    img_array = image.img_to_array(img)\n",
    "    \n",
    "    # Expand dimensions to match the input shape of the model (1, 224, 224, 3)\n",
    "    img_array = np.expand_dims(img_array, axis=0)\n",
    "    \n",
    "    # Normalize the image data to [0, 1]\n",
    "    img_array /= 255.0\n",
    "    \n",
    "    return img_array\n",
    "\n",
    "# Function to predict the breed\n",
    "def predict_breed(img_path):\n",
    "    # Preprocess the image\n",
    "    img_array = preprocess_image(img_path)\n",
    "    \n",
    "    # Make predictions\n",
    "    predictions = model.predict(img_array)\n",
    "    \n",
    "    # Print the shape and predictions for debugging\n",
    "    print(f'Predictions shape: {predictions.shape}')\n",
    "    print(f'Predictions: {predictions}')\n",
    "    \n",
    "    # Get the predicted index\n",
    "    predicted_breed_index = np.argmax(predictions)\n",
    "    print(f'Predicted index: {predicted_breed_index}')\n",
    "    \n",
    "    # Validate index and get the breed name\n",
    "    if predicted_breed_index < len(class_labels):\n",
    "        predicted_breed = class_labels[predicted_breed_index]\n",
    "    else:\n",
    "        predicted_breed = \"Unknown breed\"\n",
    "    \n",
    "    return predicted_breed\n",
    "\n",
    "# Example usage\n",
    "img_path = r'C:\\Users\\adity\\Downloads\\Kukur project\\rottweiler6.jpg'  # Your image path\n",
    "predicted_breed = predict_breed(img_path)\n",
    "\n",
    "print(f'The predicted breed is: {predicted_breed}')"
   ]
  },
  {
   "cell_type": "code",
   "execution_count": 1,
   "metadata": {},
   "outputs": [
    {
     "name": "stderr",
     "output_type": "stream",
     "text": [
      "WARNING:absl:Compiled the loaded model, but the compiled metrics have yet to be built. `model.compile_metrics` will be empty until you train or evaluate the model.\n"
     ]
    },
    {
     "name": "stdout",
     "output_type": "stream",
     "text": [
      "\u001b[1m1/1\u001b[0m \u001b[32m━━━━━━━━━━━━━━━━━━━━\u001b[0m\u001b[37m\u001b[0m \u001b[1m5s\u001b[0m 5s/step\n",
      "Predictions shape: (1, 8)\n",
      "Predictions: [[1.5238430e-05 3.5061355e-08 9.9998283e-01 2.4537836e-14 1.7260428e-08\n",
      "  1.0334005e-06 1.1740150e-14 8.6485346e-07]]\n",
      "Predicted index: 2\n",
      "The predicted breed is: dalmatian\n"
     ]
    }
   ],
   "source": [
    "import numpy as np\n",
    "import tensorflow as tf\n",
    "from tensorflow.keras.models import load_model\n",
    "from tensorflow.keras.preprocessing import image\n",
    "\n",
    "# Load the pre-trained model\n",
    "model = load_model('fine_tuned_inception.h5')\n",
    "\n",
    "# Use the correct class labels that match the model output\n",
    "class_labels = ['beagle', 'bulldog', 'dalmatian', 'german-shepherd', 'husky', 'labrador-retriever', 'poodle', 'rottweiler']\n",
    "\n",
    "# Function to preprocess the image\n",
    "def preprocess_image(img_path):\n",
    "    # Load the image with the target size (224x224 for InceptionV3)\n",
    "    img = image.load_img(img_path, target_size=(224, 224))\n",
    "    \n",
    "    # Convert the image to a numpy array\n",
    "    img_array = image.img_to_array(img)\n",
    "    \n",
    "    # Expand dimensions to match the input shape of the model (1, 224, 224, 3)\n",
    "    img_array = np.expand_dims(img_array, axis=0)\n",
    "    \n",
    "    # Normalize the image data to [0, 1]\n",
    "    img_array /= 255.0\n",
    "    \n",
    "    return img_array\n",
    "\n",
    "# Function to predict the breed\n",
    "def predict_breed(img_path):\n",
    "    # Preprocess the image\n",
    "    img_array = preprocess_image(img_path)\n",
    "    \n",
    "    # Make predictions\n",
    "    predictions = model.predict(img_array)\n",
    "    \n",
    "    # Print the shape and predictions for debugging\n",
    "    print(f'Predictions shape: {predictions.shape}')\n",
    "    print(f'Predictions: {predictions}')\n",
    "    \n",
    "    # Get the predicted index\n",
    "    predicted_breed_index = np.argmax(predictions)\n",
    "    print(f'Predicted index: {predicted_breed_index}')\n",
    "    \n",
    "    # Validate index and get the breed name\n",
    "    if predicted_breed_index < len(class_labels):\n",
    "        predicted_breed = class_labels[predicted_breed_index]\n",
    "    else:\n",
    "        predicted_breed = \"Unknown breed\"\n",
    "    \n",
    "    return predicted_breed\n",
    "\n",
    "# Example usage\n",
    "img_path = r'C:\\Users\\adity\\Downloads\\Kukur project\\dalmatian30.jpg'  # Your image path\n",
    "predicted_breed = predict_breed(img_path)\n",
    "\n",
    "print(f'The predicted breed is: {predicted_breed}')\n"
   ]
  },
  {
   "cell_type": "code",
   "execution_count": 2,
   "metadata": {},
   "outputs": [
    {
     "ename": "NameError",
     "evalue": "name 'app' is not defined",
     "output_type": "error",
     "traceback": [
      "\u001b[1;31m---------------------------------------------------------------------------\u001b[0m",
      "\u001b[1;31mNameError\u001b[0m                                 Traceback (most recent call last)",
      "Cell \u001b[1;32mIn[2], line 3\u001b[0m\n\u001b[0;32m      1\u001b[0m \u001b[38;5;28;01mimport\u001b[39;00m \u001b[38;5;21;01mtime\u001b[39;00m\n\u001b[1;32m----> 3\u001b[0m \u001b[38;5;129m@app\u001b[39m\u001b[38;5;241m.\u001b[39mroute(\u001b[38;5;124m'\u001b[39m\u001b[38;5;124m/\u001b[39m\u001b[38;5;124m'\u001b[39m, methods\u001b[38;5;241m=\u001b[39m[\u001b[38;5;124m'\u001b[39m\u001b[38;5;124mGET\u001b[39m\u001b[38;5;124m'\u001b[39m, \u001b[38;5;124m'\u001b[39m\u001b[38;5;124mPOST\u001b[39m\u001b[38;5;124m'\u001b[39m])\n\u001b[0;32m      4\u001b[0m \u001b[38;5;28;01mdef\u001b[39;00m \u001b[38;5;21mindex\u001b[39m():\n\u001b[0;32m      5\u001b[0m     start_time \u001b[38;5;241m=\u001b[39m time\u001b[38;5;241m.\u001b[39mtime()\n\u001b[0;32m      6\u001b[0m     \u001b[38;5;66;03m# (Your existing code here)\u001b[39;00m\n",
      "\u001b[1;31mNameError\u001b[0m: name 'app' is not defined"
     ]
    }
   ],
   "source": [
    "import time\n",
    "\n",
    "@app.route('/', methods=['GET', 'POST'])\n",
    "def index():\n",
    "    start_time = time.time()\n",
    "    # (Your existing code here)\n",
    "    end_time = time.time()\n",
    "    print(f\"Total time taken: {end_time - start_time} seconds\")\n"
   ]
  },
  {
   "cell_type": "code",
   "execution_count": 3,
   "metadata": {},
   "outputs": [
    {
     "name": "stderr",
     "output_type": "stream",
     "text": [
      "WARNING:absl:Compiled the loaded model, but the compiled metrics have yet to be built. `model.compile_metrics` will be empty until you train or evaluate the model.\n"
     ]
    },
    {
     "name": "stdout",
     "output_type": "stream",
     "text": [
      " * Serving Flask app '__main__'\n",
      " * Debug mode: on\n"
     ]
    },
    {
     "name": "stderr",
     "output_type": "stream",
     "text": [
      "INFO:werkzeug:\u001b[31m\u001b[1mWARNING: This is a development server. Do not use it in a production deployment. Use a production WSGI server instead.\u001b[0m\n",
      " * Running on http://127.0.0.1:5000\n",
      "INFO:werkzeug:\u001b[33mPress CTRL+C to quit\u001b[0m\n",
      "INFO:werkzeug: * Restarting with watchdog (windowsapi)\n"
     ]
    },
    {
     "ename": "SystemExit",
     "evalue": "1",
     "output_type": "error",
     "traceback": [
      "An exception has occurred, use %tb to see the full traceback.\n",
      "\u001b[1;31mSystemExit\u001b[0m\u001b[1;31m:\u001b[0m 1\n"
     ]
    },
    {
     "name": "stderr",
     "output_type": "stream",
     "text": [
      "c:\\ProgramData\\anaconda3\\Lib\\site-packages\\IPython\\core\\interactiveshell.py:3585: UserWarning: To exit: use 'exit', 'quit', or Ctrl-D.\n",
      "  warn(\"To exit: use 'exit', 'quit', or Ctrl-D.\", stacklevel=1)\n"
     ]
    }
   ],
   "source": [
    "from flask import Flask, request, render_template\n",
    "import numpy as np\n",
    "import tensorflow as tf\n",
    "from tensorflow.keras.models import load_model\n",
    "from tensorflow.keras.preprocessing import image\n",
    "import os\n",
    "\n",
    "app = Flask(__name__)\n",
    "\n",
    "# Load the pre-trained model\n",
    "model = load_model(r'C:\\Users\\adity\\Downloads\\Kukur project\\fine_tuned_inception.h5')\n",
    "\n",
    "# Class labels\n",
    "class_labels = ['beagle', 'bulldog', 'dalmatian', 'german-shepherd', 'husky', 'labrador-retriever', 'poodle', 'rottweiler']\n",
    "\n",
    "# Ensure uploads directory exists\n",
    "UPLOAD_FOLDER = 'uploads'\n",
    "if not os.path.exists(UPLOAD_FOLDER):\n",
    "    os.makedirs(UPLOAD_FOLDER)\n",
    "\n",
    "def preprocess_image(img_path):\n",
    "    img = image.load_img(img_path, target_size=(224, 224))\n",
    "    img_array = image.img_to_array(img)\n",
    "    img_array = np.expand_dims(img_array, axis=0)\n",
    "    img_array /= 255.0\n",
    "    return img_array\n",
    "\n",
    "@app.route('/', methods=['GET', 'POST'])\n",
    "def index():\n",
    "    predicted_breed = None\n",
    "    if request.method == 'POST':\n",
    "        if 'file' not in request.files:\n",
    "            return 'No file part'\n",
    "        file = request.files['file']\n",
    "        if file.filename == '':\n",
    "            return 'No selected file'\n",
    "        \n",
    "        img_path = os.path.join(UPLOAD_FOLDER, file.filename)\n",
    "        file.save(img_path)\n",
    "\n",
    "        try:\n",
    "            img_array = preprocess_image(img_path)\n",
    "            predictions = model.predict(img_array)\n",
    "            predicted_breed_index = np.argmax(predictions)\n",
    "            predicted_breed = class_labels[predicted_breed_index]\n",
    "        except Exception as e:\n",
    "            return f'Error during prediction: {str(e)}'\n",
    "\n",
    "    return render_template('index.html', predicted_breed=predicted_breed)\n",
    "\n",
    "if __name__ == '__main__':\n",
    "    app.run(debug=True)\n"
   ]
  },
  {
   "cell_type": "code",
   "execution_count": 2,
   "metadata": {},
   "outputs": [],
   "source": [
    "model_path = os.path.join('Kukur project', 'models', 'fine_tuned_inception.h5')\n"
   ]
  },
  {
   "cell_type": "code",
   "execution_count": 3,
   "metadata": {},
   "outputs": [],
   "source": [
    "model_path = r'C:\\Users\\adity\\Downloads\\Kukur project\\models\\fine_tuned_inception.h5'\n"
   ]
  },
  {
   "cell_type": "code",
   "execution_count": 4,
   "metadata": {},
   "outputs": [],
   "source": [
    "def predict_and_display(img):\n",
    "    model_path = os.path.join('Kukur project', 'models', 'fine_tuned_inception.h5')\n",
    "    if not os.path.exists(model_path):\n",
    "        print(\"Model file not found.\")\n",
    "        return None, 0  # Handle the case where the model is not found\n",
    "    model = tf.keras.models.load_model(model_path)\n",
    "    img_array = image.img_to_array(img)\n",
    "    img_array = np.expand_dims(img_array, axis=0) / 255.0\n",
    "    predictions = model.predict(img_array)\n",
    "    predicted_class = np.argmax(predictions)\n",
    "    confidence_level = np.max(predictions) * 100\n",
    "    predicted_class_name = class_labels[predicted_class]\n",
    "    return predicted_class_name, confidence_level\n"
   ]
  },
  {
   "cell_type": "code",
   "execution_count": 5,
   "metadata": {},
   "outputs": [
    {
     "name": "stdout",
     "output_type": "stream",
     "text": [
      "Current working directory: c:\\Users\\adity\\Downloads\\Kukur project\n"
     ]
    }
   ],
   "source": [
    "import os\n",
    "\n",
    "print(\"Current working directory:\", os.getcwd())\n"
   ]
  },
  {
   "cell_type": "code",
   "execution_count": 6,
   "metadata": {},
   "outputs": [],
   "source": [
    "model_path = os.path.join('models', 'fine_tuned_inception.h5')\n"
   ]
  },
  {
   "cell_type": "code",
   "execution_count": 7,
   "metadata": {},
   "outputs": [],
   "source": [
    "def predict_and_display(img):\n",
    "    model_path = os.path.join('models', 'fine_tuned_inception.h5')\n",
    "    if not os.path.exists(model_path):\n",
    "        print(\"Model file not found.\")\n",
    "        return None, 0  # Handle the case where the model is not found\n",
    "    model = tf.keras.models.load_model(model_path)\n",
    "    img_array = image.img_to_array(img)\n",
    "    img_array = np.expand_dims(img_array, axis=0) / 255.0\n",
    "    predictions = model.predict(img_array)\n",
    "    predicted_class = np.argmax(predictions)\n",
    "    confidence_level = np.max(predictions) * 100\n",
    "    predicted_class_name = class_labels[predicted_class]\n",
    "    return predicted_class_name, confidence_level\n"
   ]
  },
  {
   "cell_type": "code",
   "execution_count": 8,
   "metadata": {},
   "outputs": [
    {
     "name": "stdout",
     "output_type": "stream",
     "text": [
      "Loading model from: models\\fine_tuned_inception.h5\n"
     ]
    }
   ],
   "source": [
    "print(\"Loading model from:\", model_path)\n"
   ]
  },
  {
   "cell_type": "code",
   "execution_count": null,
   "metadata": {},
   "outputs": [],
   "source": []
  }
 ],
 "metadata": {
  "kernelspec": {
   "display_name": "base",
   "language": "python",
   "name": "python3"
  },
  "language_info": {
   "codemirror_mode": {
    "name": "ipython",
    "version": 3
   },
   "file_extension": ".py",
   "mimetype": "text/x-python",
   "name": "python",
   "nbconvert_exporter": "python",
   "pygments_lexer": "ipython3",
   "version": "3.12.4"
  }
 },
 "nbformat": 4,
 "nbformat_minor": 2
}
